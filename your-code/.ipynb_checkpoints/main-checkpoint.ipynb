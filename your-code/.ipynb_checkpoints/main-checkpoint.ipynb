{
 "cells": [
  {
   "cell_type": "markdown",
   "metadata": {},
   "source": [
    "# Advanced Web Scraping Lab\n",
    "\n",
    "In this lab you will first learn the following code snippet which is a simple web spider class that allows you to scrape paginated webpages. Read the code, run it, and make sure you understand how it work. In the challenges of this lab, we will guide you in building up this class so that eventually you will have a more robus web spider that you can further work on in the Web Scraping Project."
   ]
  },
  {
   "cell_type": "code",
   "execution_count": 12,
   "metadata": {},
   "outputs": [],
   "source": [
    "import requests\n",
    "from bs4 import BeautifulSoup\n",
    "\n",
    "class IronhackSpider:\n",
    "    \"\"\"\n",
    "    This is the constructor class to which you can pass a bunch of parameters. \n",
    "    These parameters are stored to the class instance variables so that the\n",
    "    class functions can access them later.\n",
    "    \n",
    "    url_pattern: the regex pattern of the web urls to scape\n",
    "    pages_to_scrape: how many pages to scrape\n",
    "    sleep_interval: the time interval in seconds to delay between requests. If <0, requests will not be delayed.\n",
    "    content_parser: a function reference that will extract the intended info from the scraped content.\n",
    "    \"\"\"\n",
    "    def __init__(self, url_pattern, pages_to_scrape=10, sleep_interval=-1, content_parser=None):\n",
    "        self.url_pattern = url_pattern\n",
    "        self.pages_to_scrape = pages_to_scrape\n",
    "        self.sleep_interval = sleep_interval\n",
    "        self.content_parser = content_parser\n",
    "    \n",
    "    \"\"\"\n",
    "    Scrape the content of a single url.\n",
    "    \"\"\"\n",
    "    def scrape_url(self, url):\n",
    "        response = requests.get(url)\n",
    "        result = self.content_parser(response.content)\n",
    "        self.output_results(result)\n",
    "    \n",
    "    \"\"\"\n",
    "    Export the scraped content. Right now it simply print out the results.\n",
    "    But in the future you can export the results into a text file or database.\n",
    "    \"\"\"\n",
    "    def output_results(self, r):\n",
    "        print(r)\n",
    "    \n",
    "    \"\"\"\n",
    "    After the class is instantiated, call this function to start the scraping jobs.\n",
    "    This function uses a FOR loop to call `scrape_url()` for each url to scrape.\n",
    "    \"\"\"\n",
    "    def kickstart(self):\n",
    "        for i in range(1, self.pages_to_scrape+1):\n",
    "            self.scrape_url(self.url_pattern % i)\n",
    "\n",
    "\n",
    "URL_PATTERN = 'http://quotes.toscrape.com/page/%s/' # regex pattern for the urls to scrape\n",
    "PAGES_TO_SCRAPE = 1 # how many webpages to scrapge\n",
    "\n",
    "\"\"\"\n",
    "This is a custom parser function you will complete in the challenge.\n",
    "Right now it simply returns the string passed to it. But in this lab\n",
    "you will complete this function so that it extracts the quotes.\n",
    "This function will be passed to the IronhackSpider class.\n",
    "\"\"\"\n",
    "def quotes_parser(content):\n",
    "    return content\n",
    "\n",
    "# Instantiate the IronhackSpider class\n",
    "my_spider = IronhackSpider(URL_PATTERN, PAGES_TO_SCRAPE, content_parser=quotes_parser)\n",
    "\n",
    "# Start scraping jobs\n",
    "my_spider.kickstart()"
   ]
  },
  {
   "cell_type": "markdown",
   "metadata": {},
   "source": [
    "## Challenge 1 - Custom Parser Function\n",
    "\n",
    "In this challenge, complete the custom `quotes_parser()` function so that the returned result contains the quote string instead of the whole html page content.\n",
    "\n",
    "In the cell below, write your updated `quotes_parser()` function and kickstart the spider. Make sure the results being printed contain a list of quote strings extracted from the html content."
   ]
  },
  {
   "cell_type": "code",
   "execution_count": 1,
   "metadata": {},
   "outputs": [],
   "source": [
    "# your code here\n",
    "#quotes\n",
    "from bs4 import BeautifulSoup\n",
    "import requests\n",
    "\n",
    "url = 'http://quotes.toscrape.com'\n",
    "response = requests.get(url).content"
   ]
  },
  {
   "cell_type": "code",
   "execution_count": 2,
   "metadata": {},
   "outputs": [],
   "source": [
    "sopa = BeautifulSoup(response)\n",
    "nueva_sopa = sopa.findAll('span', {'class':'text'})"
   ]
  },
  {
   "cell_type": "code",
   "execution_count": 10,
   "metadata": {},
   "outputs": [
    {
     "data": {
      "text/plain": [
       "[<span class=\"text\" itemprop=\"text\">“The world as we have created it is a process of our thinking. It cannot be changed without changing our thinking.”</span>,\n",
       " <span class=\"text\" itemprop=\"text\">“It is our choices, Harry, that show what we truly are, far more than our abilities.”</span>,\n",
       " <span class=\"text\" itemprop=\"text\">“There are only two ways to live your life. One is as though nothing is a miracle. The other is as though everything is a miracle.”</span>,\n",
       " <span class=\"text\" itemprop=\"text\">“The person, be it gentleman or lady, who has not pleasure in a good novel, must be intolerably stupid.”</span>,\n",
       " <span class=\"text\" itemprop=\"text\">“Imperfection is beauty, madness is genius and it's better to be absolutely ridiculous than absolutely boring.”</span>,\n",
       " <span class=\"text\" itemprop=\"text\">“Try not to become a man of success. Rather become a man of value.”</span>,\n",
       " <span class=\"text\" itemprop=\"text\">“It is better to be hated for what you are than to be loved for what you are not.”</span>,\n",
       " <span class=\"text\" itemprop=\"text\">“I have not failed. I've just found 10,000 ways that won't work.”</span>,\n",
       " <span class=\"text\" itemprop=\"text\">“A woman is like a tea bag; you never know how strong it is until it's in hot water.”</span>,\n",
       " <span class=\"text\" itemprop=\"text\">“A day without sunshine is like, you know, night.”</span>]"
      ]
     },
     "execution_count": 10,
     "metadata": {},
     "output_type": "execute_result"
    }
   ],
   "source": [
    "nueva_sopa"
   ]
  },
  {
   "cell_type": "code",
   "execution_count": 11,
   "metadata": {},
   "outputs": [
    {
     "name": "stdout",
     "output_type": "stream",
     "text": [
      "['“The world as we have created it is a process of our thinking. It cannot be changed without changing our thinking.”', '“It is our choices, Harry, that show what we truly are, far more than our abilities.”', '“There are only two ways to live your life. One is as though nothing is a miracle. The other is as though everything is a miracle.”', '“The person, be it gentleman or lady, who has not pleasure in a good novel, must be intolerably stupid.”', \"“Imperfection is beauty, madness is genius and it's better to be absolutely ridiculous than absolutely boring.”\", '“Try not to become a man of success. Rather become a man of value.”', '“It is better to be hated for what you are than to be loved for what you are not.”', \"“I have not failed. I've just found 10,000 ways that won't work.”\", \"“A woman is like a tea bag; you never know how strong it is until it's in hot water.”\", '“A day without sunshine is like, you know, night.”']\n"
     ]
    }
   ],
   "source": [
    "#lista con quotes, se puede limpiar \n",
    "text = [i.get_text()for i in nueva_sopa]\n",
    "print(text)"
   ]
  },
  {
   "cell_type": "markdown",
   "metadata": {},
   "source": [
    "## Challenge 2 - Error Handling\n",
    "\n",
    "In `IronhackSpider.scrape_url()`, catch any error that might occur when you make requests to scrape the webpage. This includes checking the response status code and catching http request errors such as timeout, SSL, and too many redirects.\n",
    "\n",
    "In the cell below, place your entire code including the updated `IronhackSpdier` class and the code to kickstart the spider."
   ]
  },
  {
   "cell_type": "code",
   "execution_count": null,
   "metadata": {},
   "outputs": [],
   "source": [
    "# your code here\n",
    "try:\n",
    "    response = requests.get(url)\n",
    "except Excepiton as ex:\n",
    "    print(\"Exception in response\")\n",
    "    print(str(ex))\n"
   ]
  },
  {
   "cell_type": "markdown",
   "metadata": {},
   "source": [
    "# Challenge 3 - Sleep Interval\n",
    "\n",
    "In `IronhackSpider.kickstart()`, implement `sleep_interval`. You will check if `self.sleep_interval` is larger than 0. If so, tell the FOR loop to sleep the given amount of time before making the next request.\n",
    "\n",
    "In the cell below, place your entire code including the updated `IronhackSpdier` class and the code to kickstart the spider."
   ]
  },
  {
   "cell_type": "code",
   "execution_count": null,
   "metadata": {},
   "outputs": [],
   "source": [
    "# your code here\n",
    "import time\n",
    "\n",
    "def kickstart(self, sleep_interval):\n",
    "    if sleep_interval > 0:\n",
    "        for i in range(1, self.pages_to_scrape+1):\n",
    "            self.scrape_url(self.url_pattern % i)\n",
    "            time.sleep(sleep_interval)\n",
    "\n",
    "\n",
    "        \n"
   ]
  },
  {
   "cell_type": "markdown",
   "metadata": {},
   "source": [
    "# Challenge 4 - Test Batch Scraping\n",
    "\n",
    "Change the `PAGES_TO_SCRAPE` value from `1` to `10`. Try if your code still works as intended to scrape 10 webpages. If there are errors in your code, fix them.\n",
    "\n",
    "In the cell below, place your entire code including the updated `IronhackSpdier` class and the code to kickstart the spider."
   ]
  },
  {
   "cell_type": "code",
   "execution_count": 51,
   "metadata": {},
   "outputs": [],
   "source": [
    "# your code here\n",
    "import requests\n",
    "from bs4 import BeautifulSoup\n",
    "import time\n",
    "\n",
    "class IronhackSpider:\n",
    "    \"\"\"\n",
    "    This is the constructor class to which you can pass a bunch of parameters. \n",
    "    These parameters are stored to the class instance variables so that the\n",
    "    class functions can access them later.\n",
    "    \n",
    "    url_pattern: the regex pattern of the web urls to scape\n",
    "    pages_to_scrape: how many pages to scrape\n",
    "    sleep_interval: the time interval in seconds to delay between requests. If <0, requests will not be delayed.\n",
    "    content_parser: a function reference that will extract the intended info from the scraped content.\n",
    "    \"\"\"\n",
    "    def __init__(self, url_pattern, pages_to_scrape=1, sleep_interval=-1, content_parser=None):\n",
    "        self.url_pattern = url_pattern\n",
    "        self.pages_to_scrape = pages_to_scrape\n",
    "        self.sleep_interval = sleep_interval\n",
    "        self.content_parser = content_parser\n",
    "    \n",
    "    \"\"\"\n",
    "    Scrape the content of a single url.\n",
    "    \"\"\"\n",
    "    def scrape_url(self, url):\n",
    "        try:\n",
    "            response = requests.get(url)\n",
    "            result = self.content_parser(response.content)\n",
    "            self.output_results(result)\n",
    "        except excepiton as ex:\n",
    "            print(\"Exception in response\")\n",
    "            print(str(ex))\n",
    "    \n",
    "    \"\"\"\n",
    "    Export the scraped content. Right now it simply print out the results.\n",
    "    But in the future you can export the results into a text file or database.\n",
    "    \"\"\"\n",
    "    def output_results(self, r):\n",
    "        print(r)\n",
    "    \n",
    "    \"\"\"\n",
    "    After the class is instantiated, call this function to start the scraping jobs.\n",
    "    This function uses a FOR loop to call `scrape_url()` for each url to scrape.\n",
    "    \"\"\"\n",
    "    def kickstart(self):\n",
    "        if self.sleep_interval > 0:\n",
    "            for i in range(1, self.pages_to_scrape+1):\n",
    "                self.scrape_url(self.url_pattern%i)\n",
    "                time.sleep(self.sleep_interval)"
   ]
  },
  {
   "cell_type": "code",
   "execution_count": 53,
   "metadata": {},
   "outputs": [],
   "source": [
    "\"\"\"\n",
    "This is a custom parser function you will complete in the challenge.\n",
    "Right now it simply returns the string passed to it. But in this lab\n",
    "you will complete this function so that it extracts the quotes.\n",
    "This function will be passed to the IronhackSpider class.\n",
    "\"\"\"\n",
    "def quotes_parser(content):\n",
    "    sopa = BeautifulSoup(content)\n",
    "    nueva_sopa = sopa.findAll('span', {'class':'text'})\n",
    "    text = [i.get_text()for i in nueva_sopa]\n",
    "    return text\n"
   ]
  },
  {
   "cell_type": "code",
   "execution_count": 54,
   "metadata": {},
   "outputs": [
    {
     "name": "stdout",
     "output_type": "stream",
     "text": [
      "['“The world as we have created it is a process of our thinking. It cannot be changed without changing our thinking.”', '“It is our choices, Harry, that show what we truly are, far more than our abilities.”', '“There are only two ways to live your life. One is as though nothing is a miracle. The other is as though everything is a miracle.”', '“The person, be it gentleman or lady, who has not pleasure in a good novel, must be intolerably stupid.”', \"“Imperfection is beauty, madness is genius and it's better to be absolutely ridiculous than absolutely boring.”\", '“Try not to become a man of success. Rather become a man of value.”', '“It is better to be hated for what you are than to be loved for what you are not.”', \"“I have not failed. I've just found 10,000 ways that won't work.”\", \"“A woman is like a tea bag; you never know how strong it is until it's in hot water.”\", '“A day without sunshine is like, you know, night.”']\n",
      "[\"“This life is what you make it. No matter what, you're going to mess up sometimes, it's a universal truth. But the good part is you get to decide how you're going to mess it up. Girls will be your friends - they'll act like it anyway. But just remember, some come, some go. The ones that stay with you through everything - they're your true best friends. Don't let go of them. Also remember, sisters make the best friends in the world. As for lovers, well, they'll come and go too. And baby, I hate to say it, most of them - actually pretty much all of them are going to break your heart, but you can't give up because if you give up, you'll never find your soulmate. You'll never find that half who makes you whole and that goes for everything. Just because you fail once, doesn't mean you're gonna fail at everything. Keep trying, hold on, and always, always, always believe in yourself, because if you don't, then who will, sweetie? So keep your head high, keep your chin up, and most importantly, keep smiling, because life's a beautiful thing and there's so much to smile about.”\", '“It takes a great deal of bravery to stand up to our enemies, but just as much to stand up to our friends.”', \"“If you can't explain it to a six year old, you don't understand it yourself.”\", \"“You may not be her first, her last, or her only. She loved before she may love again. But if she loves you now, what else matters? She's not perfect—you aren't either, and the two of you may never be perfect together but if she can make you laugh, cause you to think twice, and admit to being human and making mistakes, hold onto her and give her the most you can. She may not be thinking about you every second of the day, but she will give you a part of her that she knows you can break—her heart. So don't hurt her, don't change her, don't analyze and don't expect more than she can give. Smile when she makes you happy, let her know when she makes you mad, and miss her when she's not there.”\", '“I like nonsense, it wakes up the brain cells. Fantasy is a necessary ingredient in living.”', '“I may not have gone where I intended to go, but I think I have ended up where I needed to be.”', \"“The opposite of love is not hate, it's indifference. The opposite of art is not ugliness, it's indifference. The opposite of faith is not heresy, it's indifference. And the opposite of life is not death, it's indifference.”\", '“It is not a lack of love, but a lack of friendship that makes unhappy marriages.”', '“Good friends, good books, and a sleepy conscience: this is the ideal life.”', '“Life is what happens to us while we are making other plans.”']\n",
      "['“I love you without knowing how, or when, or from where. I love you simply, without problems or pride: I love you in this way because I do not know any other way of loving but this, in which there is no I or you, so intimate that your hand upon my chest is my hand, so intimate that when I fall asleep your eyes close.”', '“For every minute you are angry you lose sixty seconds of happiness.”', '“If you judge people, you have no time to love them.”', '“Anyone who thinks sitting in church can make you a Christian must also think that sitting in a garage can make you a car.”', '“Beauty is in the eye of the beholder and it may be necessary from time to time to give a stupid or misinformed beholder a black eye.”', '“Today you are You, that is truer than true. There is no one alive who is Youer than You.”', '“If you want your children to be intelligent, read them fairy tales. If you want them to be more intelligent, read them more fairy tales.”', '“It is impossible to live without failing at something, unless you live so cautiously that you might as well not have lived at all - in which case, you fail by default.”', '“Logic will get you from A to Z; imagination will get you everywhere.”', '“One good thing about music, when it hits you, you feel no pain.”']\n",
      "[\"“The more that you read, the more things you will know. The more that you learn, the more places you'll go.”\", '“Of course it is happening inside your head, Harry, but why on earth should that mean that it is not real?”', '“The truth is, everyone is going to hurt you. You just got to find the ones worth suffering for.”', '“Not all of us can do great things. But we can do small things with great love.”', '“To the well-organized mind, death is but the next great adventure.”', \"“All you need is love. But a little chocolate now and then doesn't hurt.”\", \"“We read to know we're not alone.”\", '“Any fool can know. The point is to understand.”', '“I have always imagined that Paradise will be a kind of library.”', '“It is never too late to be what you might have been.”']\n"
     ]
    }
   ],
   "source": [
    "URL_PATTERN = 'http://quotes.toscrape.com/page/%s/' \n",
    "# regex pattern for the urls to scrape\n",
    "PAGES_TO_SCRAPE = 4 # how many webpages to scrapge\n",
    "# Instantiate the IronhackSpider class\n",
    "my_spider = IronhackSpider(URL_PATTERN, PAGES_TO_SCRAPE,  2, content_parser=quotes_parser)\n",
    "\n",
    "# Start scraping jobs\n",
    "my_spider.kickstart()"
   ]
  },
  {
   "cell_type": "markdown",
   "metadata": {},
   "source": [
    "# Challenge 5 - Scrape a Different Website\n",
    "\n",
    "Update the parameters passed to the `IronhackSpider` constructor so that you coder can crawl [books.toscrape.com](http://books.toscrape.com/). You will need to use a different `URL_PATTERN` (figure out the new url pattern by yourself) and write another parser function to be passed to `IronhackSpider`. \n",
    "\n",
    "In the cell below, place your entire code including the updated `IronhackSpdier` class and the code to kickstart the spider."
   ]
  },
  {
   "cell_type": "code",
   "execution_count": 78,
   "metadata": {},
   "outputs": [],
   "source": [
    "# your code here\n",
    "import requests\n",
    "from bs4 import BeautifulSoup\n",
    "import time\n",
    "\n",
    "class IronhackSpider:\n",
    "    def __init__(self, url_pattern, pages_to_scrape=1, sleep_interval=-1, content_parser=None):\n",
    "        self.url_pattern = url_pattern\n",
    "        self.pages_to_scrape = pages_to_scrape\n",
    "        self.sleep_interval = sleep_interval\n",
    "        self.content_parser = content_parser\n",
    "\n",
    "    def scrape_url(self, url):\n",
    "        try:\n",
    "            response = requests.get(url)\n",
    "            result = self.content_parser(response.content)\n",
    "            self.output_results(result)\n",
    "        except Exception as ex:\n",
    "            print(\"Exception in response\")\n",
    "            print(str(ex))\n",
    "    \n",
    "    def output_results(self, r):\n",
    "        print(r)\n",
    "    \n",
    "    def kickstart(self):\n",
    "        if self.sleep_interval > 0:\n",
    "            for i in range(1, self.pages_to_scrape+1):\n",
    "                self.scrape_url(self.url_pattern%i)\n",
    "                time.sleep(self.sleep_interval)\n"
   ]
  },
  {
   "cell_type": "code",
   "execution_count": 81,
   "metadata": {},
   "outputs": [
    {
     "name": "stdout",
     "output_type": "stream",
     "text": [
      "['A Light in the ...', '£51.77', '', 'In stock', '', 'Add to basket', 'Tipping the Velvet', '£53.74', '', 'In stock', '', 'Add to basket', 'Soumission', '£50.10', '', 'In stock', '', 'Add to basket', 'Sharp Objects', '£47.82', '', 'In stock', '', 'Add to basket', 'Sapiens: A Brief History ...', '£54.23', '', 'In stock', '', 'Add to basket', 'The Requiem Red', '£22.65', '', 'In stock', '', 'Add to basket', 'The Dirty Little Secrets ...', '£33.34', '', 'In stock', '', 'Add to basket', 'The Coming Woman: A ...', '£17.93', '', 'In stock', '', 'Add to basket', 'The Boys in the ...', '£22.60', '', 'In stock', '', 'Add to basket', 'The Black Maria', '£52.15', '', 'In stock', '', 'Add to basket', 'Starving Hearts (Triangular Trade ...', '£13.99', '', 'In stock', '', 'Add to basket', \"Shakespeare's Sonnets\", '£20.66', '', 'In stock', '', 'Add to basket', 'Set Me Free', '£17.46', '', 'In stock', '', 'Add to basket', \"Scott Pilgrim's Precious Little ...\", '£52.29', '', 'In stock', '', 'Add to basket', 'Rip it Up and ...', '£35.02', '', 'In stock', '', 'Add to basket', 'Our Band Could Be ...', '£57.25', '', 'In stock', '', 'Add to basket', 'Olio', '£23.88', '', 'In stock', '', 'Add to basket', 'Mesaerion: The Best Science ...', '£37.59', '', 'In stock', '', 'Add to basket', 'Libertarianism for Beginners', '£51.33', '', 'In stock', '', 'Add to basket', \"It's Only the Himalayas\", '£45.17', '', 'In stock', '', 'Add to basket']\n",
      "None\n",
      "['In Her Wake', '£12.84', '', 'In stock', '', 'Add to basket', 'How Music Works', '£37.32', '', 'In stock', '', 'Add to basket', 'Foolproof Preserving: A Guide ...', '£30.52', '', 'In stock', '', 'Add to basket', 'Chase Me (Paris Nights ...', '£25.27', '', 'In stock', '', 'Add to basket', 'Black Dust', '£34.53', '', 'In stock', '', 'Add to basket', 'Birdsong: A Story in ...', '£54.64', '', 'In stock', '', 'Add to basket', \"America's Cradle of Quarterbacks: ...\", '£22.50', '', 'In stock', '', 'Add to basket', 'Aladdin and His Wonderful ...', '£53.13', '', 'In stock', '', 'Add to basket', 'Worlds Elsewhere: Journeys Around ...', '£40.30', '', 'In stock', '', 'Add to basket', 'Wall and Piece', '£44.18', '', 'In stock', '', 'Add to basket', 'The Four Agreements: A ...', '£17.66', '', 'In stock', '', 'Add to basket', 'The Five Love Languages: ...', '£31.05', '', 'In stock', '', 'Add to basket', 'The Elephant Tree', '£23.82', '', 'In stock', '', 'Add to basket', 'The Bear and the ...', '£36.89', '', 'In stock', '', 'Add to basket', \"Sophie's World\", '£15.94', '', 'In stock', '', 'Add to basket', 'Penny Maybe', '£33.29', '', 'In stock', '', 'Add to basket', 'Maude (1883-1993):She Grew Up ...', '£18.02', '', 'In stock', '', 'Add to basket', 'In a Dark, Dark ...', '£19.63', '', 'In stock', '', 'Add to basket', 'Behind Closed Doors', '£52.22', '', 'In stock', '', 'Add to basket', \"You can't bury them ...\", '£33.63', '', 'In stock', '', 'Add to basket']\n",
      "None\n",
      "['Slow States of Collapse: ...', '£57.31', '', 'In stock', '', 'Add to basket', 'Reasons to Stay Alive', '£26.41', '', 'In stock', '', 'Add to basket', 'Private Paris (Private #10)', '£47.61', '', 'In stock', '', 'Add to basket', '#HigherSelfie: Wake Up Your ...', '£23.11', '', 'In stock', '', 'Add to basket', 'Without Borders (Wanderlove #1)', '£45.07', '', 'In stock', '', 'Add to basket', 'When We Collided', '£31.77', '', 'In stock', '', 'Add to basket', 'We Love You, Charlie ...', '£50.27', '', 'In stock', '', 'Add to basket', 'Untitled Collection: Sabbath Poems ...', '£14.27', '', 'In stock', '', 'Add to basket', 'Unseen City: The Majesty ...', '£44.18', '', 'In stock', '', 'Add to basket', 'Unicorn Tracks', '£18.78', '', 'In stock', '', 'Add to basket', 'Unbound: How Eight Technologies ...', '£25.52', '', 'In stock', '', 'Add to basket', 'Tsubasa: WoRLD CHRoNiCLE 2 ...', '£16.28', '', 'In stock', '', 'Add to basket', 'Throwing Rocks at the ...', '£31.12', '', 'In stock', '', 'Add to basket', 'This One Summer', '£19.49', '', 'In stock', '', 'Add to basket', 'Thirst', '£17.27', '', 'In stock', '', 'Add to basket', 'The Torch Is Passed: ...', '£19.09', '', 'In stock', '', 'Add to basket', 'The Secret of Dreadwillow ...', '£56.13', '', 'In stock', '', 'Add to basket', 'The Pioneer Woman Cooks: ...', '£56.41', '', 'In stock', '', 'Add to basket', 'The Past Never Ends', '£56.50', '', 'In stock', '', 'Add to basket', 'The Natural History of ...', '£45.22', '', 'In stock', '', 'Add to basket']\n",
      "None\n",
      "['The Nameless City (The ...', '£38.16', '', 'In stock', '', 'Add to basket', 'The Murder That Never ...', '£54.11', '', 'In stock', '', 'Add to basket', 'The Most Perfect Thing: ...', '£42.96', '', 'In stock', '', 'Add to basket', 'The Mindfulness and Acceptance ...', '£23.89', '', 'In stock', '', 'Add to basket', 'The Life-Changing Magic of ...', '£16.77', '', 'In stock', '', 'Add to basket', 'The Inefficiency Assassin: Time ...', '£20.59', '', 'In stock', '', 'Add to basket', 'The Gutsy Girl: Escapades ...', '£37.13', '', 'In stock', '', 'Add to basket', 'The Electric Pencil: Drawings ...', '£56.06', '', 'In stock', '', 'Add to basket', 'The Death of Humanity: ...', '£58.11', '', 'In stock', '', 'Add to basket', 'The Bulletproof Diet: Lose ...', '£49.05', '', 'In stock', '', 'Add to basket', 'The Art Forger', '£40.76', '', 'In stock', '', 'Add to basket', 'The Age of Genius: ...', '£19.73', '', 'In stock', '', 'Add to basket', \"The Activist's Tao Te ...\", '£32.24', '', 'In stock', '', 'Add to basket', 'Spark Joy: An Illustrated ...', '£41.83', '', 'In stock', '', 'Add to basket', 'Soul Reader', '£39.58', '', 'In stock', '', 'Add to basket', 'Security', '£39.25', '', 'In stock', '', 'Add to basket', 'Saga, Volume 6 (Saga ...', '£25.02', '', 'In stock', '', 'Add to basket', 'Saga, Volume 5 (Saga ...', '£51.04', '', 'In stock', '', 'Add to basket', 'Reskilling America: Learning to ...', '£19.83', '', 'In stock', '', 'Add to basket', 'Rat Queens, Vol. 3: ...', '£50.40', '', 'In stock', '', 'Add to basket']\n",
      "None\n"
     ]
    }
   ],
   "source": [
    "def quotes_parser(content):\n",
    "    sopa = BeautifulSoup(content)\n",
    "    nueva_sopa = sopa.findAll('article', {'class':'product_pod'})\n",
    "    text = [i.get_text().split('\\n')for i in nueva_sopa]\n",
    "    texto2 = [elemento.strip() for texto in text for elemento in texto  if elemento!='']\n",
    "    return texto2\n",
    "\n",
    "\n",
    "URL_PATTERN = 'http://books.toscrape.com/catalogue/page-%s.html'\n",
    "# regex pattern for the urls to scrape\n",
    "PAGES_TO_SCRAPE = 4 # how many webpages to scrapge\n",
    "# Instantiate the IronhackSpider class\n",
    "my_spider = IronhackSpider(URL_PATTERN, PAGES_TO_SCRAPE,  2, content_parser=quotes_parser)\n",
    "\n",
    "# Start scraping jobs\n",
    "my_spider.kickstart()"
   ]
  },
  {
   "cell_type": "code",
   "execution_count": null,
   "metadata": {},
   "outputs": [],
   "source": []
  },
  {
   "cell_type": "markdown",
   "metadata": {},
   "source": [
    "# Bonus Challenge 1 - Making Your Spider Unblockable\n",
    "\n",
    "Use techniques such as randomizing user agents and referers in your requests to reduce the likelihood that your spider is blocked by websites. [Here](http://blog.adnansiddiqi.me/5-strategies-to-write-unblock-able-web-scrapers-in-python/) is a great article to learn these techniques.\n",
    "\n",
    "In the cell below, place your entire code including the updated `IronhackSpdier` class and the code to kickstart the spider."
   ]
  },
  {
   "cell_type": "code",
   "execution_count": null,
   "metadata": {},
   "outputs": [],
   "source": [
    "# your code here"
   ]
  },
  {
   "cell_type": "markdown",
   "metadata": {},
   "source": [
    "# Bonus Challenge 2 - Making Asynchronous Calls\n",
    "\n",
    "Implement asynchronous calls to `IronhackSpider`. You will make requests in parallel to complete your tasks faster.\n",
    "\n",
    "In the cell below, place your entire code including the updated `IronhackSpdier` class and the code to kickstart the spider."
   ]
  },
  {
   "cell_type": "code",
   "execution_count": null,
   "metadata": {},
   "outputs": [],
   "source": [
    "# your code here"
   ]
  }
 ],
 "metadata": {
  "kernelspec": {
   "display_name": "Python 3",
   "language": "python",
   "name": "python3"
  },
  "language_info": {
   "codemirror_mode": {
    "name": "ipython",
    "version": 3
   },
   "file_extension": ".py",
   "mimetype": "text/x-python",
   "name": "python",
   "nbconvert_exporter": "python",
   "pygments_lexer": "ipython3",
   "version": "3.7.0"
  }
 },
 "nbformat": 4,
 "nbformat_minor": 2
}
